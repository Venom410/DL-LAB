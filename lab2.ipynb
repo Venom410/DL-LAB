{
 "cells": [
  {
   "cell_type": "code",
   "execution_count": 2,
   "id": "def23016-4a65-454f-b05f-a9879b3fc64d",
   "metadata": {},
   "outputs": [
    {
     "data": {
      "text/plain": [
       "'2.1.2'"
      ]
     },
     "execution_count": 2,
     "metadata": {},
     "output_type": "execute_result"
    }
   ],
   "source": [
    "import torch\n",
    "torch.__version__"
   ]
  },
  {
   "cell_type": "code",
   "execution_count": 6,
   "id": "a0bae80e-4ea3-4dfd-b87d-c67cfd23b9c7",
   "metadata": {},
   "outputs": [
    {
     "name": "stdout",
     "output_type": "stream",
     "text": [
      "Analytical gradient dz/da: 34.0\n",
      "Gradient computed using PyTorch: 34.0\n"
     ]
    }
   ],
   "source": [
    "import torch\n",
    "\n",
    "# Define the variables with requires_grad=True to track gradients\n",
    "a = torch.tensor([1.0], requires_grad=True)\n",
    "b = torch.tensor([2.0], requires_grad=True)\n",
    "\n",
    "# Define the computation graph\n",
    "x = 2*a + 3*b\n",
    "y = 5*a**2 + 3*b**3\n",
    "z = 2*x + 3*y\n",
    "\n",
    "# Perform backward propagation to compute gradients\n",
    "z.backward()\n",
    "\n",
    "# Access the gradient dz/da\n",
    "gradient_da = a.grad\n",
    "\n",
    "# Print the result\n",
    "print(\"Analytical gradient dz/da:\", 4 + 30*a.item())\n",
    "print(\"Gradient computed using PyTorch:\", gradient_da.item())\n"
   ]
  },
  {
   "cell_type": "code",
   "execution_count": 5,
   "id": "f195c7db-2e21-4873-b30f-b0f9aa5c64fe",
   "metadata": {},
   "outputs": [
    {
     "name": "stdin",
     "output_type": "stream",
     "text": [
      "Enter the equation for x in terms of a and b:  2*a + 3*b\n",
      "Enter the equation for y in terms of a and b:  5*a*a + 3*b*b*b\n",
      "Enter the equation for z in terms of x and y:  2*x + 3*y\n",
      "Enter the value for a:  1\n",
      "Enter the value for b:  1\n"
     ]
    },
    {
     "name": "stdout",
     "output_type": "stream",
     "text": [
      "Gradient computed using PyTorch: 34.0\n"
     ]
    }
   ],
   "source": [
    "import torch\n",
    "\n",
    "# Function to get user input for equations\n",
    "def get_equations_and_values():\n",
    "    equation_x = input(\"Enter the equation for x in terms of a and b: \")\n",
    "    equation_y = input(\"Enter the equation for y in terms of a and b: \")\n",
    "    equation_z = input(\"Enter the equation for z in terms of x and y: \")\n",
    "    a_value = float(input(\"Enter the value for a: \"))\n",
    "    b_value = float(input(\"Enter the value for b: \"))\n",
    "    \n",
    "    return equation_x, equation_y, equation_z, a_value, b_value\n",
    "\n",
    "# Function to perform the forward pass and compute gradients\n",
    "def forward_pass(equation_x, equation_y, equation_z, a_value, b_value):\n",
    "    a = torch.tensor([a_value], requires_grad=True)\n",
    "    b = torch.tensor([b_value], requires_grad=True)\n",
    "\n",
    "    # Evaluate equations\n",
    "    x = eval(equation_x)\n",
    "    y = eval(equation_y)\n",
    "    z = eval(equation_z)\n",
    "\n",
    "    # Perform backward propagation to compute gradients\n",
    "    z.backward()\n",
    "\n",
    "    # Access the gradient dz/da\n",
    "    gradient_da = a.grad\n",
    "\n",
    "    return gradient_da.item()\n",
    "\n",
    "# Get user input for equations and values\n",
    "equation_x, equation_y, equation_z, a_value, b_value = get_equations_and_values()\n",
    "\n",
    "# Perform the forward pass and compute gradients\n",
    "result = forward_pass(equation_x, equation_y, equation_z, a_value, b_value)\n",
    "\n",
    "# Print the result\n",
    "print(\"Gradient computed using PyTorch:\", result)\n"
   ]
  },
  {
   "cell_type": "code",
   "execution_count": null,
   "id": "dca63912-7753-4560-a259-0d4b7c9aebbe",
   "metadata": {},
   "outputs": [],
   "source": []
  }
 ],
 "metadata": {
  "kernelspec": {
   "display_name": "Python 3 (ipykernel)",
   "language": "python",
   "name": "python3"
  },
  "language_info": {
   "codemirror_mode": {
    "name": "ipython",
    "version": 3
   },
   "file_extension": ".py",
   "mimetype": "text/x-python",
   "name": "python",
   "nbconvert_exporter": "python",
   "pygments_lexer": "ipython3",
   "version": "3.11.7"
  }
 },
 "nbformat": 4,
 "nbformat_minor": 5
}
