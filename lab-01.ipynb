{
 "cells": [
  {
   "cell_type": "code",
   "execution_count": 7,
   "metadata": {},
   "outputs": [
    {
     "data": {
      "text/plain": [
       "'2.1.2+cu121'"
      ]
     },
     "execution_count": 7,
     "metadata": {},
     "output_type": "execute_result"
    }
   ],
   "source": [
    "import torch\n",
    "torch.__version__\n"
   ]
  },
  {
   "cell_type": "code",
   "execution_count": 8,
   "metadata": {},
   "outputs": [
    {
     "name": "stdout",
     "output_type": "stream",
     "text": [
      "Reshaped tensor:\n",
      "tensor([[1, 2],\n",
      "        [3, 4],\n",
      "        [5, 6]])\n",
      "\n",
      "Stacked tensor:\n",
      "tensor([[1, 2, 3],\n",
      "        [4, 5, 6]])\n",
      "\n",
      "Squeezed tensor:\n",
      "tensor([1, 2, 3])\n",
      "\n",
      "Unsqueezed tensor:\n",
      "tensor([[[1]],\n",
      "\n",
      "        [[2]],\n",
      "\n",
      "        [[3]]])\n",
      "\n",
      "Permuted tensor:\n",
      "tensor([[[-0.1259,  0.4105,  0.0756],\n",
      "         [-1.1247,  0.6839, -0.8160]],\n",
      "\n",
      "        [[-0.9578,  1.7675, -0.1525],\n",
      "         [-0.3144,  1.6132,  1.1565]],\n",
      "\n",
      "        [[ 1.7518, -0.0832,  0.1958],\n",
      "         [ 0.6260,  0.9332, -1.2107]],\n",
      "\n",
      "        [[ 0.9796,  0.5087, -1.5688],\n",
      "         [ 0.0908, -0.9772,  0.5071]]])\n",
      "\n",
      "Accessing specific elements:\n",
      "tensor(2)\n",
      "\n",
      "Slicing tensors:\n",
      "tensor([2, 5, 8])\n",
      "tensor([[4, 5],\n",
      "        [7, 8]])\n"
     ]
    }
   ],
   "source": [
    "import torch\n",
    "\n",
    "# Creating a tensor\n",
    "x = torch.tensor([[1, 2, 3], [4, 5, 6]])\n",
    "\n",
    "# Reshaping using view()\n",
    "reshaped_x = x.view(3, 2)  # Reshaping to a 3x2 tensor\n",
    "print(\"Reshaped tensor:\")\n",
    "print(reshaped_x)\n",
    "\n",
    "# Stacking tensors along a new dimension\n",
    "tensor1 = torch.tensor([1, 2, 3])\n",
    "tensor2 = torch.tensor([4, 5, 6])\n",
    "stacked_tensor = torch.stack((tensor1, tensor2))  # Stack along a new dimension (default dim=0)\n",
    "print(\"\\nStacked tensor:\")\n",
    "print(stacked_tensor)\n",
    "\n",
    "# Squeezing and unsqueezing tensors\n",
    "tensor = torch.tensor([[1], [2], [3]])  # A tensor with shape (3, 1)\n",
    "squeezed_tensor = tensor.squeeze()  # Squeezing the tensor to shape (3,)\n",
    "unsqueezed_tensor = tensor.unsqueeze(1)  # Unsqueezing to shape (3, 1,)\n",
    "print(\"\\nSqueezed tensor:\")\n",
    "print(squeezed_tensor)\n",
    "print(\"\\nUnsqueezed tensor:\")\n",
    "print(unsqueezed_tensor)\n",
    "\n",
    "# Permuting dimensions of a tensor\n",
    "tensor = torch.randn(2, 3, 4)  # A tensor with shape (2, 3, 4)\n",
    "permuted_tensor = tensor.permute(2, 0, 1)  # Change the order of dimensions to (4, 2, 3)\n",
    "print(\"\\nPermuted tensor:\")\n",
    "print(permuted_tensor)\n",
    "\n",
    "# Indexing tensors\n",
    "tensor = torch.tensor([[1, 2, 3], [4, 5, 6], [7, 8, 9]])\n",
    "\n",
    "# Accessing specific elements\n",
    "print(\"\\nAccessing specific elements:\")\n",
    "print(tensor[0, 1])  # Accessing element at row 0, column 1\n",
    "\n",
    "# Slicing tensors\n",
    "print(\"\\nSlicing tensors:\")\n",
    "print(tensor[:, 1])  # Accessing the second column of the tensor\n",
    "print(tensor[1:, :2])  # Accessing a slice of the tensor from row 1 onwards and up to column 2\n"
   ]
  },
  {
   "cell_type": "code",
   "execution_count": 9,
   "metadata": {},
   "outputs": [
    {
     "name": "stdout",
     "output_type": "stream",
     "text": [
      "PyTorch Tensor:\n",
      "tensor([[1, 2, 3],\n",
      "        [4, 5, 6]])\n",
      "\n",
      "NumPy Array:\n",
      "[[1 2 3]\n",
      " [4 5 6]]\n",
      "\n",
      "Random Tensor:\n",
      "tensor([[ 1.3272,  0.1106,  0.3374, -0.3201,  0.5689,  0.1333,  0.5600],\n",
      "        [-0.7351,  0.2755, -0.9336, -0.1527, -0.5300,  1.4535, -1.5414],\n",
      "        [-0.3315,  0.5505,  0.8885, -1.4867, -0.8898,  0.9005,  0.2615],\n",
      "        [-0.1494,  1.1523, -1.1309, -0.5415, -0.1605,  0.9327,  0.0649],\n",
      "        [ 0.0676, -0.5489, -0.4120,  0.0539, -0.0642, -0.7201, -0.6052],\n",
      "        [-0.6239, -0.4703, -0.8482,  0.8185,  0.2061,  0.7011, -1.0268],\n",
      "        [ 0.3708, -0.9329,  0.3073,  0.7593,  1.5333, -0.7755, -2.1510]])\n",
      "\n",
      "Matrix Multiplication Result:\n",
      "tensor([[-2.4676],\n",
      "        [ 0.0702],\n",
      "        [ 1.1727],\n",
      "        [ 0.7252],\n",
      "        [-1.4546],\n",
      "        [-0.8455],\n",
      "        [ 1.2924]])\n",
      "\n",
      "Matrix Multiplication Result:\n",
      "tensor([[-2.4676],\n",
      "        [ 0.0702],\n",
      "        [ 1.1727],\n",
      "        [ 0.7252],\n",
      "        [-1.4546],\n",
      "        [-0.8455],\n",
      "        [ 1.2924]])\n"
     ]
    }
   ],
   "source": [
    "import numpy as np\n",
    "import torch\n",
    "\n",
    "# Create a NumPy array\n",
    "numpy_array = np.array([[1, 2, 3], [4, 5, 6]])\n",
    "\n",
    "# Convert NumPy array to PyTorch tensor\n",
    "pytorch_tensor = torch.from_numpy(numpy_array)\n",
    "print(\"PyTorch Tensor:\")\n",
    "print(pytorch_tensor)\n",
    "\n",
    "# Convert PyTorch tensor to NumPy array\n",
    "numpy_array_back = pytorch_tensor.numpy()\n",
    "print(\"\\nNumPy Array:\")\n",
    "print(numpy_array_back)\n",
    "\n",
    "# Create a random tensor with shape 7x7\n",
    "random_tensor = torch.randn(7, 7)\n",
    "print(\"\\nRandom Tensor:\")\n",
    "print(random_tensor)\n",
    "\n",
    "# Create the tensors\n",
    "tensor_7x7 = torch.randn(7, 7)\n",
    "tensor_1x7 = torch.randn(1, 7)\n",
    "\n",
    "# Transpose the 1x7 tensor to make it 7x1\n",
    "tensor_7x1 = tensor_1x7.t()\n",
    "\n",
    "# matrix multiplication\n",
    "result = torch.matmul(tensor_7x7, tensor_7x1)\n",
    "print(\"\\nMatrix Multiplication Result:\")\n",
    "print(result)\n",
    "\n",
    "# matrix multiplication again\n",
    "result = torch.matmul(tensor_7x7, tensor_7x1)\n",
    "print(\"\\nMatrix Multiplication Result:\")\n",
    "print(result)"
   ]
  },
  {
   "cell_type": "code",
   "execution_count": 10,
   "metadata": {},
   "outputs": [
    {
     "name": "stdout",
     "output_type": "stream",
     "text": [
      "CUDA not available, tensors remain on CPU\n",
      "Max value: 3.6446805000305176, Min value: -2.023585796356201\n",
      "Index of Max value: 3, Index of Min value: 2\n"
     ]
    }
   ],
   "source": [
    "import torch\n",
    "\n",
    "# Create random tensors on CPU\n",
    "tensor1 = torch.randn(2, 3)\n",
    "tensor2 = torch.randn(2, 3)\n",
    "\n",
    "# Check if GPU (CUDA) is available\n",
    "if torch.cuda.is_available():\n",
    "    # Move tensors to the GPU\n",
    "    tensor1 = tensor1.to('cuda')\n",
    "    tensor2 = tensor2.to('cuda')\n",
    "    print(\"Tensors moved to GPU\")\n",
    "\n",
    "    # Verify their device\n",
    "    print(f\"Tensor 1 device: {tensor1.device}\")\n",
    "    print(f\"Tensor 2 device: {tensor2.device}\")\n",
    "else:\n",
    "    print(\"CUDA not available, tensors remain on CPU\")\n",
    "\n",
    "# matrix multiplication\n",
    "result = torch.matmul(tensor1, tensor2.t())  # Transposing tensor2 for matrix multiplication\n",
    "\n",
    "# Find max and min values of the output\n",
    "max_value = torch.max(result)\n",
    "min_value = torch.min(result)\n",
    "print(f\"Max value: {max_value}, Min value: {min_value}\")\n",
    "\n",
    "# Find indices of max and min values\n",
    "max_indices = torch.argmax(result)\n",
    "min_indices = torch.argmin(result)\n",
    "print(f\"Index of Max value: {max_indices}, Index of Min value: {min_indices}\")\n"
   ]
  },
  {
   "cell_type": "code",
   "execution_count": 11,
   "metadata": {},
   "outputs": [
    {
     "name": "stdout",
     "output_type": "stream",
     "text": [
      "Tensor 1:\n",
      "tensor([[[[-0.1468,  0.7861,  0.9468, -1.1143,  1.6908, -0.8948, -0.3556,\n",
      "            1.2324,  0.1382, -1.6822]]]])\n",
      "Tensor 1 shape: torch.Size([1, 1, 1, 10])\n",
      "\n",
      "Tensor 2:\n",
      "tensor([-0.1468,  0.7861,  0.9468, -1.1143,  1.6908, -0.8948, -0.3556,  1.2324,\n",
      "         0.1382, -1.6822])\n",
      "Tensor 2 shape: torch.Size([10])\n"
     ]
    }
   ],
   "source": [
    "import torch\n",
    "\n",
    "# Setting seed for reproducibility\n",
    "torch.manual_seed(7)\n",
    "\n",
    "# Creating a random tensor with shape (1, 1, 1, 10)\n",
    "tensor_1 = torch.randn(1, 1, 1, 10)\n",
    "\n",
    "# Removing dimensions with size 1\n",
    "tensor_2 = tensor_1.squeeze()\n",
    "\n",
    "#first tensor and its shape\n",
    "print(\"Tensor 1:\")\n",
    "print(tensor_1)\n",
    "print(f\"Tensor 1 shape: {tensor_1.shape}\")\n",
    "\n",
    "# second tensor and its shape\n",
    "print(\"\\nTensor 2:\")\n",
    "print(tensor_2)\n",
    "print(f\"Tensor 2 shape: {tensor_2.shape}\")\n"
   ]
  },
  {
   "cell_type": "code",
   "execution_count": null,
   "metadata": {},
   "outputs": [],
   "source": []
  }
 ],
 "metadata": {
  "kernelspec": {
   "display_name": "Python 3",
   "language": "python",
   "name": "python3"
  },
  "language_info": {
   "codemirror_mode": {
    "name": "ipython",
    "version": 3
   },
   "file_extension": ".py",
   "mimetype": "text/x-python",
   "name": "python",
   "nbconvert_exporter": "python",
   "pygments_lexer": "ipython3",
   "version": "3.8.10"
  }
 },
 "nbformat": 4,
 "nbformat_minor": 2
}
